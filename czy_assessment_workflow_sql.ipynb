{
 "cells": [
  {
   "cell_type": "markdown",
   "metadata": {},
   "source": [
    "Getting SQL to work on my computer was the biggest hurdle to answering the SQL questions, which is why I was so surprsed when this worked out of the box. \n",
    "\n",
    "This explanation assumes you've read czy_assessment_workflow_python first."
   ]
  },
  {
   "cell_type": "markdown",
   "metadata": {},
   "source": [
    "# EXAMPLE: COUNT NEIGHBORHOODS"
   ]
  },
  {
   "cell_type": "markdown",
   "metadata": {},
   "source": [
    "### STEP 1: Import sqlite3"
   ]
  },
  {
   "cell_type": "code",
   "execution_count": 1,
   "metadata": {},
   "outputs": [],
   "source": [
    "import sqlite3 as sql"
   ]
  },
  {
   "cell_type": "markdown",
   "metadata": {},
   "source": [
    "### STEP 2: Copy the 'run_sql_query' function from the test file\n",
    "\n",
    "this is just some magic that connects python to sql"
   ]
  },
  {
   "cell_type": "code",
   "execution_count": 2,
   "metadata": {},
   "outputs": [],
   "source": [
    "def run_sql_query(command, db='data/housing.sqlite'):\n",
    "    if not command:\n",
    "        return []\n",
    "    con = sql.connect(db)\n",
    "    c = con.cursor()\n",
    "    data = c.execute(command)\n",
    "    return [d for d in data]\n",
    "    con.close()"
   ]
  },
  {
   "cell_type": "markdown",
   "metadata": {},
   "source": [
    "### STEP 3: Copy the function stub"
   ]
  },
  {
   "cell_type": "code",
   "execution_count": 3,
   "metadata": {},
   "outputs": [],
   "source": [
    "def sql_count_neighborhoods():\n",
    "    '''\n",
    "    INPUT: None\n",
    "    OUTPUT: string\n",
    "    Return a SQL query that gives the number of neighborhoods in each city\n",
    "    according to the rent table. Keep in mind that city names are not always\n",
    "    unique unless you include the state as well, so your result should have\n",
    "    these columns: city, state, cnt\n",
    "    '''\n",
    "    pass"
   ]
  },
  {
   "cell_type": "markdown",
   "metadata": {},
   "source": [
    "### STEP 3: Copy the test lines\n",
    "\n",
    "    result = run_sql_query(a.sql_count_neighborhoods())\n",
    "    self.assertEqual(len(result), 177)\n",
    "    sf, portland = None, None\n",
    "    for line in result:\n",
    "        if line[0] == 'San Francisco':\n",
    "            sf = int(line[2])\n",
    "        elif line[0] == 'Portland' and line[1] == 'ME':\n",
    "            portland = int(line[2])\n",
    "    self.assertEqual(sf, 62)\n",
    "    self.assertEqual(portland, 13)"
   ]
  },
  {
   "cell_type": "markdown",
   "metadata": {},
   "source": [
    "### STEP 4: Edit the test lines\n",
    "\n",
    "there's a lot going on here, but the same rules apply as before\n",
    "\n",
    "1) remove the 'a' before the function call\n",
    "\n",
    "2) replace self.assert with print and the comma with double equals"
   ]
  },
  {
   "cell_type": "code",
   "execution_count": 4,
   "metadata": {},
   "outputs": [
    {
     "name": "stdout",
     "output_type": "stream",
     "text": [
      "False\n",
      "False\n",
      "False\n"
     ]
    }
   ],
   "source": [
    "result = run_sql_query(sql_count_neighborhoods())\n",
    "print(len(result) == 177)\n",
    "sf, portland = None, None\n",
    "for line in result:\n",
    "    if line[0] == 'San Francisco':\n",
    "        sf = int(line[2])\n",
    "    elif line[0] == 'Portland' and line[1] == 'ME':\n",
    "        portland = int(line[2])\n",
    "print(sf == 62)\n",
    "print(portland == 13)"
   ]
  },
  {
   "cell_type": "markdown",
   "metadata": {},
   "source": [
    "### STEP 5: Put all of it together in one cell and make it work!"
   ]
  },
  {
   "cell_type": "code",
   "execution_count": 5,
   "metadata": {},
   "outputs": [
    {
     "name": "stdout",
     "output_type": "stream",
     "text": [
      "True\n",
      "True\n",
      "True\n"
     ]
    }
   ],
   "source": [
    "def sql_count_neighborhoods():\n",
    "    '''\n",
    "    INPUT: None\n",
    "    OUTPUT: string\n",
    "    Return a SQL query that gives the number of neighborhoods in each city\n",
    "    according to the rent table. Keep in mind that city names are not always\n",
    "    unique unless you include the state as well, so your result should have\n",
    "    these columns: city, state, cnt\n",
    "    '''\n",
    "    return '''SELECT city, state, COUNT(1) AS cnt\n",
    "              FROM rent\n",
    "              GROUP BY city, state;'''\n",
    "\n",
    "result = run_sql_query(sql_count_neighborhoods())\n",
    "print(len(result) == 177)\n",
    "sf, portland = None, None\n",
    "for line in result:\n",
    "    if line[0] == 'San Francisco':\n",
    "        sf = int(line[2])\n",
    "    elif line[0] == 'Portland' and line[1] == 'ME':\n",
    "        portland = int(line[2])\n",
    "print(sf == 62)\n",
    "print(portland == 13)"
   ]
  },
  {
   "cell_type": "markdown",
   "metadata": {},
   "source": [
    "### Yay!"
   ]
  }
 ],
 "metadata": {
  "kernelspec": {
   "display_name": "Python 3",
   "language": "python",
   "name": "python3"
  },
  "language_info": {
   "codemirror_mode": {
    "name": "ipython",
    "version": 3
   },
   "file_extension": ".py",
   "mimetype": "text/x-python",
   "name": "python",
   "nbconvert_exporter": "python",
   "pygments_lexer": "ipython3",
   "version": "3.6.5"
  }
 },
 "nbformat": 4,
 "nbformat_minor": 2
}
