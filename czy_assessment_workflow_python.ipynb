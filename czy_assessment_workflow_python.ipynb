{
 "cells": [
  {
   "cell_type": "markdown",
   "metadata": {},
   "source": [
    "Hello! This is just a dsecription of how I would tackle the assessment. Obviously you need a workflow that you're comfortable with, but maybe you can get some ideas from here."
   ]
  },
  {
   "cell_type": "markdown",
   "metadata": {},
   "source": [
    "# EXAMPLE: Max Lists"
   ]
  },
  {
   "cell_type": "markdown",
   "metadata": {},
   "source": [
    "### STEP 1: Copy the function stub into a jupyter notebook\n",
    "\n",
    "1. You have the correct format to copy/paste it back into the assessment\n",
    "\n",
    "2. You have all the documentation. eg it explicitly says that you can count on the lists being the same length. "
   ]
  },
  {
   "cell_type": "code",
   "execution_count": 1,
   "metadata": {},
   "outputs": [],
   "source": [
    "def max_lists(list1, list2):\n",
    "    '''\n",
    "    INPUT: list, list\n",
    "    OUTPUT: list\n",
    "\n",
    "    list1 and list2 have the same length. Return a list which contains the\n",
    "    maximum element of each list for every index.\n",
    "    '''\n",
    "    pass"
   ]
  },
  {
   "cell_type": "markdown",
   "metadata": {},
   "source": [
    "### Step 2: Copy the content of the unit test\n",
    "\n",
    "I don't need the function bit, just the content\n",
    "\n",
    "    result = a.max_lists([5, 7, 2, 3, 6], [3, 9, 1, 2, 8])\n",
    "    self.assertEqual(result, [5,9,2,3,8])"
   ]
  },
  {
   "cell_type": "markdown",
   "metadata": {},
   "source": [
    "### Step 3: Edit the unit test to make it useful\n",
    "\n",
    "the 'a' is just to get the function from another file. delete it\n",
    "\n",
    "    before:    result = a.max_lists([5, 7, 2, 3, 6], [3, 9, 1, 2, 8])\n",
    "    after :    result = max_lists([5, 7, 2, 3, 6], [3, 9, 1, 2, 8])\n",
    "    \n",
    "we're not fancy so let's not self.assert. replace with a print statement and ==\n",
    "\n",
    "    before:    self.assertEqual(result, [5,9,2,3,8])\n",
    "    after :    print(result == [5,9,2,3,8])  "
   ]
  },
  {
   "cell_type": "markdown",
   "metadata": {},
   "source": [
    "### Step 4: Put it all together in one cell\n",
    "\n",
    "and add a \"print(result)\" at the end"
   ]
  },
  {
   "cell_type": "code",
   "execution_count": 2,
   "metadata": {},
   "outputs": [
    {
     "name": "stdout",
     "output_type": "stream",
     "text": [
      "False\n",
      "None\n"
     ]
    }
   ],
   "source": [
    "def max_lists(list1, list2):\n",
    "    '''\n",
    "    INPUT: list, list\n",
    "    OUTPUT: list\n",
    "\n",
    "    list1 and list2 have the same length. Return a list which contains the\n",
    "    maximum element of each list for every index.\n",
    "    '''\n",
    "    pass\n",
    "\n",
    "result = max_lists([5, 7, 2, 3, 6], [3, 9, 1, 2, 8])\n",
    "print(result == [5,9,2,3,8])\n",
    "\n",
    "print(result)"
   ]
  },
  {
   "cell_type": "markdown",
   "metadata": {},
   "source": [
    "It's false because max_lists isn't returning anything yet. But you can change that!"
   ]
  },
  {
   "cell_type": "markdown",
   "metadata": {},
   "source": [
    "### Now you can change the function and get it to print True!"
   ]
  },
  {
   "cell_type": "code",
   "execution_count": 3,
   "metadata": {},
   "outputs": [
    {
     "name": "stdout",
     "output_type": "stream",
     "text": [
      "True\n",
      "[5, 9, 2, 3, 8]\n"
     ]
    }
   ],
   "source": [
    "def max_lists(list1, list2):\n",
    "    '''\n",
    "    INPUT: list, list\n",
    "    OUTPUT: list\n",
    "\n",
    "    list1 and list2 have the same length. Return a list which contains the\n",
    "    maximum element of each list for every index.\n",
    "    '''\n",
    "    lst1 = [5,9,2]\n",
    "    lst2 = [3,8]\n",
    "    ans = lst1+lst2\n",
    "    return ans\n",
    "\n",
    "result = max_lists([5, 7, 2, 3, 6], [3, 9, 1, 2, 8])\n",
    "print(result == [5,9,2,3,8])\n",
    "\n",
    "print(result)"
   ]
  },
  {
   "cell_type": "markdown",
   "metadata": {},
   "source": [
    "### Success!"
   ]
  },
  {
   "cell_type": "code",
   "execution_count": null,
   "metadata": {},
   "outputs": [],
   "source": []
  }
 ],
 "metadata": {
  "kernelspec": {
   "display_name": "Python 3",
   "language": "python",
   "name": "python3"
  },
  "language_info": {
   "codemirror_mode": {
    "name": "ipython",
    "version": 3
   },
   "file_extension": ".py",
   "mimetype": "text/x-python",
   "name": "python",
   "nbconvert_exporter": "python",
   "pygments_lexer": "ipython3",
   "version": "3.6.5"
  }
 },
 "nbformat": 4,
 "nbformat_minor": 2
}
